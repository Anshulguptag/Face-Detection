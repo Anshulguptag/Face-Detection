{
 "cells": [
  {
   "cell_type": "code",
   "execution_count": 1,
   "metadata": {},
   "outputs": [
    {
     "name": "stdout",
     "output_type": "stream",
     "text": [
      "Importing Jupyter notebook from Face_Recogonization_Train.ipynb\n"
     ]
    },
    {
     "name": "stderr",
     "output_type": "stream",
     "text": [
      "/home/anshul/anaconda3/envs/tensorflow/lib/python3.6/site-packages/h5py/__init__.py:36: FutureWarning: Conversion of the second argument of issubdtype from `float` to `np.floating` is deprecated. In future, it will be treated as `np.float64 == np.dtype(float).type`.\n",
      "  from ._conv import register_converters as _register_converters\n",
      "Using Theano backend.\n",
      "WARNING (theano.configdefaults): install mkl with `conda install mkl-service`: No module named 'mkl'\n"
     ]
    }
   ],
   "source": [
    "import nbimporter\n",
    "import Face_Recogonization_Train as train\n",
    "from keras.models import model_from_json\n",
    "import cv2\n",
    "from PIL import Image\n",
    "import glob\n",
    "import pyttsx3 #for audio\n",
    "import sys\n",
    "import os\n",
    "import numpy as np\n",
    "detector=cv2.CascadeClassifier('haarcascade_frontalface_default.xml')\n",
    "eye=cv2.CascadeClassifier('haarcascade_eye.xml')\n",
    "mouth=cv2.CascadeClassifier('haarcascade_mouth.xml')\n",
    "car=cv2.CascadeClassifier('haarcascade_car.xml')"
   ]
  },
  {
   "cell_type": "code",
   "execution_count": 2,
   "metadata": {},
   "outputs": [
    {
     "name": "stdout",
     "output_type": "stream",
     "text": [
      "Are you new User(y/n): y\n",
      "Want to work on previous one: n\n",
      "0\n",
      "How many Entries do you want enter?\n",
      "2\n",
      "Enter your first name: Anshul\n",
      "Enter your last name: Gupta\n",
      "Enter your email id: ganshul917@gmail.com\n",
      "Enter your branch: IT\n",
      "Scanning 6 % completedEnter your first name: fddf\n",
      "Enter your last name: dfd\n",
      "Enter your email id: dfdf\n",
      "Enter your branch: dfdf\n",
      "Image Processing: 229Train Shape:  (230, 100, 100) (230,)\n",
      "Classes are:  [0 1]\n",
      "Total no. of classes:  2\n"
     ]
    },
    {
     "data": {
      "image/png": "[encoded data removed]",
      "text/plain": [
       "<Figure size 360x360 with 1 Axes>"
      ]
     },
     "metadata": {},
     "output_type": "display_data"
    },
    {
     "name": "stdout",
     "output_type": "stream",
     "text": [
      "_________________________________________________________________\n",
      "Layer (type)                 Output Shape              Param #   \n",
      "=================================================================\n",
      "conv2d_1 (Conv2D)            (None, 100, 100, 32)      320       \n",
      "_________________________________________________________________\n",
      "activation_1 (Activation)    (None, 100, 100, 32)      0         \n",
      "_________________________________________________________________\n",
      "dropout_1 (Dropout)          (None, 100, 100, 32)      0         \n",
      "_________________________________________________________________\n",
      "max_pooling2d_1 (MaxPooling2 (None, 50, 50, 32)        0         \n",
      "_________________________________________________________________\n",
      "conv2d_2 (Conv2D)            (None, 50, 50, 64)        18496     \n",
      "_________________________________________________________________\n",
      "activation_2 (Activation)    (None, 50, 50, 64)        0         \n",
      "_________________________________________________________________\n",
      "dropout_2 (Dropout)          (None, 50, 50, 64)        0         \n",
      "_________________________________________________________________\n",
      "max_pooling2d_2 (MaxPooling2 (None, 25, 25, 64)        0         \n",
      "_________________________________________________________________\n",
      "conv2d_3 (Conv2D)            (None, 25, 25, 128)       73856     \n",
      "_________________________________________________________________\n",
      "activation_3 (Activation)    (None, 25, 25, 128)       0         \n",
      "_________________________________________________________________\n",
      "dropout_3 (Dropout)          (None, 25, 25, 128)       0         \n",
      "_________________________________________________________________\n",
      "max_pooling2d_3 (MaxPooling2 (None, 13, 13, 128)       0         \n",
      "_________________________________________________________________\n",
      "flatten_1 (Flatten)          (None, 21632)             0         \n",
      "_________________________________________________________________\n",
      "dense_1 (Dense)              (None, 128)               2769024   \n",
      "_________________________________________________________________\n",
      "activation_4 (Activation)    (None, 128)               0         \n",
      "_________________________________________________________________\n",
      "dropout_4 (Dropout)          (None, 128)               0         \n",
      "_________________________________________________________________\n",
      "dense_2 (Dense)              (None, 2)                 258       \n",
      "=================================================================\n",
      "Total params: 2,861,954\n",
      "Trainable params: 2,861,954\n",
      "Non-trainable params: 0\n",
      "_________________________________________________________________\n",
      "Train on 184 samples, validate on 46 samples\n",
      "Epoch 1/2\n",
      "184/184 [==============================] - 13s 72ms/step - loss: 1.6461 - acc: 0.6413 - val_loss: 0.7356 - val_acc: 0.4565\n",
      "Epoch 2/2\n",
      "184/184 [==============================] - 12s 66ms/step - loss: 0.7314 - acc: 0.5489 - val_loss: 0.6903 - val_acc: 0.5435\n",
      "Saved model to disk\n"
     ]
    }
   ],
   "source": [
    "warning=input(\"Are you new User(y/n): \")\n",
    "if warning=='y':\n",
    "    \n",
    "    model=train.Neural()\n",
    "    model_json = model.to_json()\n",
    "    with open(\"model.json\", \"w\") as json_file:\n",
    "        json_file.write(model_json)\n",
    "    model.save_weights(\"model.h5\")\n",
    "    print(\"Saved model to disk\")    "
   ]
  },
  {
   "cell_type": "code",
   "execution_count": 3,
   "metadata": {},
   "outputs": [
    {
     "name": "stdout",
     "output_type": "stream",
     "text": [
      "Loaded model from disk\n"
     ]
    }
   ],
   "source": [
    "json_file = open('model.json', 'r')\n",
    "loaded_model_json = json_file.read()\n",
    "json_file.close()\n",
    "loaded_model = model_from_json(loaded_model_json)\n",
    "loaded_model.load_weights(\"model.h5\")\n",
    "print(\"Loaded model from disk\")"
   ]
  },
  {
   "cell_type": "code",
   "execution_count": 4,
   "metadata": {},
   "outputs": [],
   "source": [
    "def imresize(path):\n",
    "    a_i_p=glob.glob(os.path.join(path))\n",
    "    i=0\n",
    "    for i_p in a_i_p:\n",
    "        img=Image.open(i_p)\n",
    "        img=img.resize((100,100), Image.ANTIALIAS)\n",
    "        img.save(i_p)\n",
    "            \n",
    "def take_data(path):\n",
    "    imgs=[]\n",
    "    all_img_path=glob.glob(os.path.join(path))\n",
    "    \n",
    "    np.random.shuffle(all_img_path)\n",
    "    for img_path in all_img_path:\n",
    "        img=cv2.imread(img_path,0)\n",
    "        imgs.append(img)    \n",
    "        \n",
    "    X = np.array(imgs)\n",
    "    newX=[]\n",
    "    \n",
    "    for k in range(0,len(X)):\n",
    "        newX.append(X[k])\n",
    "    newX=np.array(newX)\n",
    "    \n",
    "    return(newX)\n",
    "\n"
   ]
  },
  {
   "cell_type": "code",
   "execution_count": 5,
   "metadata": {},
   "outputs": [
    {
     "name": "stdout",
     "output_type": "stream",
     "text": [
      "ID: 2\n",
      "First Name: fddf\n",
      "Last Name: dfd\n",
      "Email Id: dfdf\n",
      "Branch: dfdf\n",
      "\n",
      "\n",
      "Thank You and have a nice day :)\n"
     ]
    }
   ],
   "source": [
    "import mysql.connector\n",
    "db=mysql.connector.connect(host='localhost',database='mysql',user='root',password='Anshul@13')\n",
    "cursor = db.cursor()\n",
    "cap = cv2.VideoCapture(0)\n",
    "i=0\n",
    "j=[]\n",
    "face=0\n",
    "while True:\n",
    "    ret, frame = cap.read()\n",
    "    gray1 = cv2.cvtColor(frame, cv2.COLOR_BGR2GRAY)\n",
    "    faces1 = detector.detectMultiScale(gray1, 1.3, 5)\n",
    "    for (x,y,w,h) in faces1:\n",
    "        if face !=0:\n",
    "            cv2.putText(frame, facial, (x - 10, y - 10),\n",
    "                    cv2.FONT_HERSHEY_SIMPLEX, 1, (0, 0, 255), 2)\n",
    "    \n",
    "        cv2.rectangle(frame,(x,y),(x+w,y+h),(255,0,0),2)\n",
    "        roi_gray1=gray1[y:y+h, x:x+w]\n",
    "        roi_color1=frame[y:y+h, x:x+w]\n",
    "        cv2.imwrite('test/test.png', roi_color1) \n",
    "        \n",
    "    cv2.imshow('frame',frame)\n",
    "    imresize(\"/home/anshul/computer_vision/Face detection/test/test.png\")\n",
    "    test_X=take_data(\"/home/anshul/computer_vision/Face detection/test/test.png\")\n",
    "    test_X=np.reshape(test_X,[-1,100,100,1])\n",
    "    test_X=test_X/255\n",
    "    predict_classes=loaded_model.predict(test_X)\n",
    "        \n",
    "    if len(predict_classes)!=0:\n",
    "        predict_classes=np.argmax(np.round(predict_classes),axis=1)\n",
    "        sql='SELECT * FROM student WHERE id=\"'+str(int(predict_classes)+1)+'\"'\n",
    "        cursor.execute(sql)\n",
    "        data=cursor.fetchall()\n",
    "        facial=data[0][1]\n",
    "        face=face+1     \n",
    "        if int(predict_classes)+1 not in j:\n",
    "            sys.stdout.write('\\r')\n",
    "            sys.stdout.write(\"ID: \"+str(data[0][0])+\"\\nFirst Name: \"+str(data[0][1])+\"\\nLast Name: \"+str(data[0][2])+\"\\nEmail Id: \"+str(data[0][3])+\"\\nBranch: \"+str(data[0][4])+\"\\n\\n\")\n",
    "            sys.stdout.flush()\n",
    "            j.append(int(predict_classes)+1)\n",
    "                   \n",
    "        '''\n",
    "        if labels[int(predict_classes)]=='Anshul':\n",
    "            if i==0:\n",
    "                engine = pyttsx3.init()\n",
    "\n",
    "                engine.say(\"Hello Sir \")\n",
    "                sql='SELECT * FROM EMPLOYEE WHERE first_name=\"'+str(labels[int(predict_classes)])+'\"'\n",
    "                cursor.execute(sql)\n",
    "                data=cursor.fetchall()\n",
    "                print ('First Name: '+str(data[0][0])+'\\nLast Name: '+str(data[0][1])+'\\nAge: '+str(data[0][2])+'\\nSex: '+str(data[0][3])+'\\nIncome: '+str(data[0][4]))\n",
    "                engine.setProperty('rate',120)  #120 words per minute\n",
    "                engine.setProperty('volume',0.9) \n",
    "                engine.runAndWait()\n",
    "                i=i+1\n",
    "                j=0\n",
    "            sys.stdout.flush()\n",
    "            facial=labels[int(predict_classes)]\n",
    "    \n",
    "\n",
    "        else:\n",
    "            if j==0:\n",
    "                engine = pyttsx3.init()\n",
    "\n",
    "                engine.say(\"Sorry sir i can't recognize you \")\n",
    "\n",
    "                engine.setProperty('rate',120)  #120 words per minute\n",
    "                engine.setProperty('volume',1.5) \n",
    "                engine.runAndWait()\n",
    "                i=0\n",
    "                j=j+1\n",
    "            facial='Unrecognize Face'\n",
    "            '''\n",
    "        os.remove('/home/anshul/computer_vision/Face detection/test/test.png')\n",
    "    '''\n",
    "    else:\n",
    "        sys.stdout.write('\\r')\n",
    "        sys.stdout.write(\"Image Doesn't Capture due to face out of the frame or low light\")\n",
    "        sys.stdout.flush()\n",
    "    '''   \n",
    "    face=face+1\n",
    "    if cv2.waitKey(1) & 0xFF == ord('q'):\n",
    "        print(\"\\nThank You and have a nice day :)\")\n",
    "        break\n",
    "db.commit()\n",
    "db.close()    \n",
    "cap.release()\n",
    "cv2.destroyAllWindows()"
   ]
  },
  {
   "cell_type": "code",
   "execution_count": null,
   "metadata": {},
   "outputs": [],
   "source": []
  }
 ],
 "metadata": {
  "kernelspec": {
   "display_name": "Python 3",
   "language": "python",
   "name": "python3"
  },
  "language_info": {
   "codemirror_mode": {
    "name": "ipython",
    "version": 3
   },
   "file_extension": ".py",
   "mimetype": "text/x-python",
   "name": "python",
   "nbconvert_exporter": "python",
   "pygments_lexer": "ipython3",
   "version": "3.6.4"
  }
 },
 "nbformat": 4,
 "nbformat_minor": 2
}
