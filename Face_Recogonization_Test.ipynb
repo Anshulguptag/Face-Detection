{
 "cells": [
  {
   "cell_type": "code",
   "execution_count": 6,
   "metadata": {},
   "outputs": [],
   "source": [
    "import nbimporter\n",
    "import Face_Recogonization_Train as train\n",
    "from keras.models import model_from_json\n",
    "import cv2\n",
    "from PIL import Image\n",
    "import glob\n",
    "import sys\n",
    "import os\n",
    "import sqlite3\n",
    "import numpy as np\n",
    "detector=cv2.CascadeClassifier('haarcascade_frontalface_default.xml')\n",
    "eye=cv2.CascadeClassifier('haarcascade_eye.xml')\n",
    "mouth=cv2.CascadeClassifier('haarcascade_mouth.xml')\n",
    "car=cv2.CascadeClassifier('haarcascade_car.xml')"
   ]
  },
  {
   "cell_type": "code",
   "execution_count": 7,
   "metadata": {},
   "outputs": [
    {
     "name": "stdout",
     "output_type": "stream",
     "text": [
      "Are you new User(y/n): n\n"
     ]
    }
   ],
   "source": [
    "warning=input(\"Are you new User(y/n): \")\n",
    "if warning=='y':\n",
    "    model=train.Neural()\n",
    "    model_json = model.to_json()\n",
    "    with open(\"model.json\", \"w\") as json_file:\n",
    "        json_file.write(model_json)\n",
    "    model.save_weights(\"model.h5\")\n",
    "    print(\"Saved model to disk\")    "
   ]
  },
  {
   "cell_type": "code",
   "execution_count": 8,
   "metadata": {},
   "outputs": [
    {
     "name": "stdout",
     "output_type": "stream",
     "text": [
      "Loaded model from disk\n"
     ]
    }
   ],
   "source": [
    "json_file = open('model.json', 'r')\n",
    "loaded_model_json = json_file.read()\n",
    "json_file.close()\n",
    "loaded_model = model_from_json(loaded_model_json)\n",
    "loaded_model.load_weights(\"model.h5\")\n",
    "print(\"Loaded model from disk\")"
   ]
  },
  {
   "cell_type": "code",
   "execution_count": 9,
   "metadata": {},
   "outputs": [],
   "source": [
    "def imresize(path):\n",
    "    a_i_p=glob.glob(os.path.join(path))\n",
    "    i=0\n",
    "    for i_p in a_i_p:\n",
    "        img=Image.open(i_p)\n",
    "        img=img.resize((100,100), Image.ANTIALIAS)\n",
    "        img.save(i_p)\n",
    "            \n",
    "def take_data(path):\n",
    "    imgs=[]\n",
    "    all_img_path=glob.glob(os.path.join(path))\n",
    "    \n",
    "    np.random.shuffle(all_img_path)\n",
    "    for img_path in all_img_path:\n",
    "        img=cv2.imread(img_path,0)\n",
    "        imgs.append(img)    \n",
    "        \n",
    "    X = np.array(imgs)\n",
    "    newX=[]\n",
    "    \n",
    "    for k in range(0,len(X)):\n",
    "        newX.append(X[k])\n",
    "    newX=np.array(newX)\n",
    "    \n",
    "    return(newX)\n",
    "\n"
   ]
  },
  {
   "cell_type": "code",
   "execution_count": null,
   "metadata": {},
   "outputs": [
    {
     "name": "stdout",
     "output_type": "stream",
     "text": [
      "ID: 1\n",
      "First Name: Anshul\n",
      "Last Name: Gupta\n",
      "Email Id: ganshul917\n",
      "Branch: IT\n",
      "\n",
      "ID: 2\n",
      "First Name: Narender\n",
      "Last Name: Modi\n",
      "Email Id: nmodi@pmo.com\n",
      "Branch: BJP\n",
      "\n"
     ]
    }
   ],
   "source": [
    "db=sqlite3.connect('database.db')\n",
    "cursor = db.cursor()\n",
    "cap = cv2.VideoCapture(0)\n",
    "i=0\n",
    "j=[]\n",
    "face=0\n",
    "facial = \"\"\n",
    "conf = \"\"\n",
    "while True:\n",
    "    ret, frame = cap.read()\n",
    "    gray1 = cv2.cvtColor(frame, cv2.COLOR_BGR2GRAY)\n",
    "    faces1 = detector.detectMultiScale(gray1, 1.3, 5)\n",
    "    for (x,y,w,h) in faces1:\n",
    "        \n",
    "        if face !=0:\n",
    "            cv2.putText(frame, facial, (x - 10, y - 10),cv2.FONT_HERSHEY_SIMPLEX, 1, (0, 0, 255), 2)\n",
    "            cv2.putText(frame, conf, (x + 150, y - 10),cv2.FONT_HERSHEY_SIMPLEX, 1, (0, 255, 255), 2)\n",
    "        cv2.rectangle(frame,(x,y),(x+w,y+h),(255,0,0),2)\n",
    "        roi_gray1=gray1[y:y+h, x:x+w]\n",
    "        roi_color1=frame[y:y+h, x:x+w]\n",
    "        cv2.imwrite('test/test.png', roi_color1) \n",
    "        \n",
    "    cv2.imshow('frame',frame)\n",
    "    imresize(\"test/test.png\")\n",
    "    test_X=take_data(\"test/test.png\")\n",
    "    test_X=np.reshape(test_X,[-1,100,100,1])\n",
    "    test_X=test_X/255\n",
    "    predict_classes=loaded_model.predict(test_X)\n",
    "    if len(predict_classes)!=0:\n",
    "        conf = str(int((np.max(predict_classes)/np.sum(predict_classes))*100))+\"%\"\n",
    "        predict_classes=np.argmax(np.round(predict_classes),axis=1)\n",
    "        sql='SELECT * FROM student WHERE Sno=\"'+str(int(predict_classes)+1)+'\"'\n",
    "        cursor.execute(sql)\n",
    "        data=cursor.fetchall()\n",
    "        facial=data[0][1]\n",
    "        face=face+1     \n",
    "        if int(predict_classes)+1 not in j:\n",
    "            sys.stdout.write('\\r')\n",
    "            sys.stdout.write(\"ID: \"+str(data[0][0])+\"\\nFirst Name: \"+str(data[0][1])+\"\\nLast Name: \"+str(data[0][2])+\"\\nEmail Id: \"+str(data[0][3])+\"\\nBranch: \"+str(data[0][4])+\"\\n\\n\")\n",
    "            sys.stdout.flush()\n",
    "            j.append(int(predict_classes)+1)\n",
    "                   \n",
    "        '''\n",
    "        if labels[int(predict_classes)]=='Anshul':\n",
    "            if i==0:\n",
    "                engine = pyttsx3.init()\n",
    "\n",
    "                engine.say(\"Hello Sir \")\n",
    "                sql='SELECT * FROM EMPLOYEE WHERE first_name=\"'+str(labels[int(predict_classes)])+'\"'\n",
    "                cursor.execute(sql)\n",
    "                data=cursor.fetchall()\n",
    "                print ('First Name: '+str(data[0][0])+'\\nLast Name: '+str(data[0][1])+'\\nAge: '+str(data[0][2])+'\\nSex: '+str(data[0][3])+'\\nIncome: '+str(data[0][4]))\n",
    "                engine.setProperty('rate',120)  #120 words per minute\n",
    "                engine.setProperty('volume',0.9) \n",
    "                engine.runAndWait()\n",
    "                i=i+1\n",
    "                j=0\n",
    "            sys.stdout.flush()\n",
    "            facial=labels[int(predict_classes)]\n",
    "    \n",
    "\n",
    "        else:\n",
    "            if j==0:\n",
    "                engine = pyttsx3.init()\n",
    "\n",
    "                engine.say(\"Sorry sir i can't recognize you \")\n",
    "\n",
    "                engine.setProperty('rate',120)  #120 words per minute\n",
    "                engine.setProperty('volume',1.5) \n",
    "                engine.runAndWait()\n",
    "                i=0\n",
    "                j=j+1\n",
    "            facial='Unrecognize Face'\n",
    "            '''\n",
    "        os.remove('test/test.png')\n",
    "    '''\n",
    "    else:\n",
    "        sys.stdout.write('\\r')\n",
    "        sys.stdout.write(\"Image Doesn't Capture due to face out of the frame or low light\")\n",
    "        sys.stdout.flush()\n",
    "    '''   \n",
    "    face=face+1\n",
    "    if cv2.waitKey(1) & 0xFF == ord('q'):\n",
    "        print(\"\\nThank You and have a nice day :)\")\n",
    "        break\n",
    "db.commit()\n",
    "db.close()    \n",
    "cap.release()\n",
    "cv2.destroyAllWindows()"
   ]
  },
  {
   "cell_type": "code",
   "execution_count": null,
   "metadata": {},
   "outputs": [],
   "source": []
  }
 ],
 "metadata": {
  "kernelspec": {
   "display_name": "Python 3",
   "language": "python",
   "name": "python3"
  },
  "language_info": {
   "codemirror_mode": {
    "name": "ipython",
    "version": 3
   },
   "file_extension": ".py",
   "mimetype": "text/x-python",
   "name": "python",
   "nbconvert_exporter": "python",
   "pygments_lexer": "ipython3",
   "version": "3.6.5"
  }
 },
 "nbformat": 4,
 "nbformat_minor": 2
}
